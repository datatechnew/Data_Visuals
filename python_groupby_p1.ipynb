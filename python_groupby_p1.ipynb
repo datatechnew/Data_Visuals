{
  "nbformat": 4,
  "nbformat_minor": 0,
  "metadata": {
    "colab": {
      "provenance": []
    },
    "kernelspec": {
      "name": "python3",
      "display_name": "Python 3"
    },
    "language_info": {
      "name": "python"
    }
  },
  "cells": [
    {
      "cell_type": "code",
      "execution_count": null,
      "metadata": {
        "id": "ULTXtieAtzt4"
      },
      "outputs": [],
      "source": [
        "#https://realpython.com/pandas-groupby/#using-lambda-functions-in-groupby\n",
        "\n",
        "import pandas as pd\n",
        "import numpy as np"
      ]
    },
    {
      "cell_type": "code",
      "source": [
        "dtypes = {\n",
        "    'first_name' : 'category',\n",
        "    'gender': 'category',\n",
        "    'type' : 'category',\n",
        "    'state' : 'category',\n",
        "    'party' : 'category',\n",
        "}"
      ],
      "metadata": {
        "id": "2aKAx-pALzW5"
      },
      "execution_count": null,
      "outputs": []
    },
    {
      "cell_type": "code",
      "source": [
        "df = pd.read_csv(\"/content/legislators-historical.csv\")\n",
        "df.head()"
      ],
      "metadata": {
        "id": "FS0FBh_3NGEr"
      },
      "execution_count": null,
      "outputs": []
    },
    {
      "cell_type": "code",
      "source": [
        "df = pd.read_csv(\"/content/legislators-historical.csv\", \n",
        "                 dtype = dtypes, \n",
        "                 usecols= list(dtypes) + ['birthday', 'last_name'],\n",
        "                 parse_dates = ['birthday'])\n",
        "df.tail()"
      ],
      "metadata": {
        "colab": {
          "base_uri": "https://localhost:8080/",
          "height": 206
        },
        "id": "a03PdgHuLzY6",
        "outputId": "6a365f9a-e0a6-41ae-e8e8-d88f259f9241"
      },
      "execution_count": null,
      "outputs": [
        {
          "output_type": "execute_result",
          "data": {
            "text/plain": [
              "      last_name first_name   birthday gender type state       party\n",
              "11970   Garrett     Thomas 1972-03-27      M  rep    VA  Republican\n",
              "11971    Handel      Karen 1962-04-18      F  rep    GA  Republican\n",
              "11972     Jones     Brenda 1959-10-24      F  rep    MI    Democrat\n",
              "11973    Marino        Tom 1952-08-15      M  rep    PA  Republican\n",
              "11974     Jones     Walter 1943-02-10      M  rep    NC  Republican"
            ],
            "text/html": [
              "\n",
              "  <div id=\"df-63d459a4-07c9-4aff-8c23-6b0d87ba6043\">\n",
              "    <div class=\"colab-df-container\">\n",
              "      <div>\n",
              "<style scoped>\n",
              "    .dataframe tbody tr th:only-of-type {\n",
              "        vertical-align: middle;\n",
              "    }\n",
              "\n",
              "    .dataframe tbody tr th {\n",
              "        vertical-align: top;\n",
              "    }\n",
              "\n",
              "    .dataframe thead th {\n",
              "        text-align: right;\n",
              "    }\n",
              "</style>\n",
              "<table border=\"1\" class=\"dataframe\">\n",
              "  <thead>\n",
              "    <tr style=\"text-align: right;\">\n",
              "      <th></th>\n",
              "      <th>last_name</th>\n",
              "      <th>first_name</th>\n",
              "      <th>birthday</th>\n",
              "      <th>gender</th>\n",
              "      <th>type</th>\n",
              "      <th>state</th>\n",
              "      <th>party</th>\n",
              "    </tr>\n",
              "  </thead>\n",
              "  <tbody>\n",
              "    <tr>\n",
              "      <th>11970</th>\n",
              "      <td>Garrett</td>\n",
              "      <td>Thomas</td>\n",
              "      <td>1972-03-27</td>\n",
              "      <td>M</td>\n",
              "      <td>rep</td>\n",
              "      <td>VA</td>\n",
              "      <td>Republican</td>\n",
              "    </tr>\n",
              "    <tr>\n",
              "      <th>11971</th>\n",
              "      <td>Handel</td>\n",
              "      <td>Karen</td>\n",
              "      <td>1962-04-18</td>\n",
              "      <td>F</td>\n",
              "      <td>rep</td>\n",
              "      <td>GA</td>\n",
              "      <td>Republican</td>\n",
              "    </tr>\n",
              "    <tr>\n",
              "      <th>11972</th>\n",
              "      <td>Jones</td>\n",
              "      <td>Brenda</td>\n",
              "      <td>1959-10-24</td>\n",
              "      <td>F</td>\n",
              "      <td>rep</td>\n",
              "      <td>MI</td>\n",
              "      <td>Democrat</td>\n",
              "    </tr>\n",
              "    <tr>\n",
              "      <th>11973</th>\n",
              "      <td>Marino</td>\n",
              "      <td>Tom</td>\n",
              "      <td>1952-08-15</td>\n",
              "      <td>M</td>\n",
              "      <td>rep</td>\n",
              "      <td>PA</td>\n",
              "      <td>Republican</td>\n",
              "    </tr>\n",
              "    <tr>\n",
              "      <th>11974</th>\n",
              "      <td>Jones</td>\n",
              "      <td>Walter</td>\n",
              "      <td>1943-02-10</td>\n",
              "      <td>M</td>\n",
              "      <td>rep</td>\n",
              "      <td>NC</td>\n",
              "      <td>Republican</td>\n",
              "    </tr>\n",
              "  </tbody>\n",
              "</table>\n",
              "</div>\n",
              "      <button class=\"colab-df-convert\" onclick=\"convertToInteractive('df-63d459a4-07c9-4aff-8c23-6b0d87ba6043')\"\n",
              "              title=\"Convert this dataframe to an interactive table.\"\n",
              "              style=\"display:none;\">\n",
              "        \n",
              "  <svg xmlns=\"http://www.w3.org/2000/svg\" height=\"24px\"viewBox=\"0 0 24 24\"\n",
              "       width=\"24px\">\n",
              "    <path d=\"M0 0h24v24H0V0z\" fill=\"none\"/>\n",
              "    <path d=\"M18.56 5.44l.94 2.06.94-2.06 2.06-.94-2.06-.94-.94-2.06-.94 2.06-2.06.94zm-11 1L8.5 8.5l.94-2.06 2.06-.94-2.06-.94L8.5 2.5l-.94 2.06-2.06.94zm10 10l.94 2.06.94-2.06 2.06-.94-2.06-.94-.94-2.06-.94 2.06-2.06.94z\"/><path d=\"M17.41 7.96l-1.37-1.37c-.4-.4-.92-.59-1.43-.59-.52 0-1.04.2-1.43.59L10.3 9.45l-7.72 7.72c-.78.78-.78 2.05 0 2.83L4 21.41c.39.39.9.59 1.41.59.51 0 1.02-.2 1.41-.59l7.78-7.78 2.81-2.81c.8-.78.8-2.07 0-2.86zM5.41 20L4 18.59l7.72-7.72 1.47 1.35L5.41 20z\"/>\n",
              "  </svg>\n",
              "      </button>\n",
              "      \n",
              "  <style>\n",
              "    .colab-df-container {\n",
              "      display:flex;\n",
              "      flex-wrap:wrap;\n",
              "      gap: 12px;\n",
              "    }\n",
              "\n",
              "    .colab-df-convert {\n",
              "      background-color: #E8F0FE;\n",
              "      border: none;\n",
              "      border-radius: 50%;\n",
              "      cursor: pointer;\n",
              "      display: none;\n",
              "      fill: #1967D2;\n",
              "      height: 32px;\n",
              "      padding: 0 0 0 0;\n",
              "      width: 32px;\n",
              "    }\n",
              "\n",
              "    .colab-df-convert:hover {\n",
              "      background-color: #E2EBFA;\n",
              "      box-shadow: 0px 1px 2px rgba(60, 64, 67, 0.3), 0px 1px 3px 1px rgba(60, 64, 67, 0.15);\n",
              "      fill: #174EA6;\n",
              "    }\n",
              "\n",
              "    [theme=dark] .colab-df-convert {\n",
              "      background-color: #3B4455;\n",
              "      fill: #D2E3FC;\n",
              "    }\n",
              "\n",
              "    [theme=dark] .colab-df-convert:hover {\n",
              "      background-color: #434B5C;\n",
              "      box-shadow: 0px 1px 3px 1px rgba(0, 0, 0, 0.15);\n",
              "      filter: drop-shadow(0px 1px 2px rgba(0, 0, 0, 0.3));\n",
              "      fill: #FFFFFF;\n",
              "    }\n",
              "  </style>\n",
              "\n",
              "      <script>\n",
              "        const buttonEl =\n",
              "          document.querySelector('#df-63d459a4-07c9-4aff-8c23-6b0d87ba6043 button.colab-df-convert');\n",
              "        buttonEl.style.display =\n",
              "          google.colab.kernel.accessAllowed ? 'block' : 'none';\n",
              "\n",
              "        async function convertToInteractive(key) {\n",
              "          const element = document.querySelector('#df-63d459a4-07c9-4aff-8c23-6b0d87ba6043');\n",
              "          const dataTable =\n",
              "            await google.colab.kernel.invokeFunction('convertToInteractive',\n",
              "                                                     [key], {});\n",
              "          if (!dataTable) return;\n",
              "\n",
              "          const docLinkHtml = 'Like what you see? Visit the ' +\n",
              "            '<a target=\"_blank\" href=https://colab.research.google.com/notebooks/data_table.ipynb>data table notebook</a>'\n",
              "            + ' to learn more about interactive tables.';\n",
              "          element.innerHTML = '';\n",
              "          dataTable['output_type'] = 'display_data';\n",
              "          await google.colab.output.renderOutput(dataTable, element);\n",
              "          const docLink = document.createElement('div');\n",
              "          docLink.innerHTML = docLinkHtml;\n",
              "          element.appendChild(docLink);\n",
              "        }\n",
              "      </script>\n",
              "    </div>\n",
              "  </div>\n",
              "  "
            ]
          },
          "metadata": {},
          "execution_count": 7
        }
      ]
    },
    {
      "cell_type": "code",
      "source": [
        "df.info()"
      ],
      "metadata": {
        "colab": {
          "base_uri": "https://localhost:8080/"
        },
        "id": "qTSZ5OFyLzca",
        "outputId": "496da315-eb20-4803-bf41-af99fde960fd"
      },
      "execution_count": null,
      "outputs": [
        {
          "output_type": "stream",
          "name": "stdout",
          "text": [
            "<class 'pandas.core.frame.DataFrame'>\n",
            "RangeIndex: 11975 entries, 0 to 11974\n",
            "Data columns (total 7 columns):\n",
            " #   Column      Non-Null Count  Dtype         \n",
            "---  ------      --------------  -----         \n",
            " 0   last_name   11975 non-null  object        \n",
            " 1   first_name  11975 non-null  category      \n",
            " 2   birthday    11422 non-null  datetime64[ns]\n",
            " 3   gender      11975 non-null  category      \n",
            " 4   type        11975 non-null  category      \n",
            " 5   state       11975 non-null  category      \n",
            " 6   party       11741 non-null  category      \n",
            "dtypes: category(5), datetime64[ns](1), object(1)\n",
            "memory usage: 307.0+ KB\n"
          ]
        }
      ]
    },
    {
      "cell_type": "code",
      "source": [
        "n_by_state = df.groupby('state')['last_name'].count()\n",
        "n_by_state.head()"
      ],
      "metadata": {
        "colab": {
          "base_uri": "https://localhost:8080/"
        },
        "id": "lSV5ARwZLzhr",
        "outputId": "f4ba7615-fb0e-4c81-c743-30c51e5cb653"
      },
      "execution_count": null,
      "outputs": [
        {
          "output_type": "execute_result",
          "data": {
            "text/plain": [
              "state\n",
              "AK     16\n",
              "AL    206\n",
              "AR    117\n",
              "AS      2\n",
              "AZ     48\n",
              "Name: last_name, dtype: int64"
            ]
          },
          "metadata": {},
          "execution_count": 11
        }
      ]
    },
    {
      "cell_type": "code",
      "source": [
        "##### sql query for line 11\n",
        "# select state, count(name)\n",
        "# from df\n",
        "# group by state\n",
        "# order by state;"
      ],
      "metadata": {
        "id": "iYqLRm6IRFeL"
      },
      "execution_count": null,
      "outputs": []
    },
    {
      "cell_type": "code",
      "source": [
        "#grouping jointly on two columns, which finds the count of Congressional members broken out by state and then by gender\n",
        "df.groupby(['state', 'gender'])['last_name'].count()"
      ],
      "metadata": {
        "colab": {
          "base_uri": "https://localhost:8080/"
        },
        "id": "VgDUOjeILzjl",
        "outputId": "b7502dcd-dba9-497f-e112-cf2994d0eea0"
      },
      "execution_count": null,
      "outputs": [
        {
          "output_type": "execute_result",
          "data": {
            "text/plain": [
              "state  gender\n",
              "AK     F           0\n",
              "       M          16\n",
              "AL     F           3\n",
              "       M         203\n",
              "AR     F           5\n",
              "                ... \n",
              "WI     M         196\n",
              "WV     F           1\n",
              "       M         119\n",
              "WY     F           2\n",
              "       M          38\n",
              "Name: last_name, Length: 116, dtype: int64"
            ]
          },
          "metadata": {},
          "execution_count": 12
        }
      ]
    },
    {
      "cell_type": "code",
      "source": [
        "df.groupby(['state', 'gender'], as_index =False)['last_name'].count()"
      ],
      "metadata": {
        "colab": {
          "base_uri": "https://localhost:8080/",
          "height": 424
        },
        "id": "xG_x_-GrSwtm",
        "outputId": "7ab772b9-4357-45f0-dd7c-2ac71b5731cf"
      },
      "execution_count": null,
      "outputs": [
        {
          "output_type": "execute_result",
          "data": {
            "text/plain": [
              "    state gender  last_name\n",
              "0      AK      F          0\n",
              "1      AK      M         16\n",
              "2      AL      F          3\n",
              "3      AL      M        203\n",
              "4      AR      F          5\n",
              "..    ...    ...        ...\n",
              "111    WI      M        196\n",
              "112    WV      F          1\n",
              "113    WV      M        119\n",
              "114    WY      F          2\n",
              "115    WY      M         38\n",
              "\n",
              "[116 rows x 3 columns]"
            ],
            "text/html": [
              "\n",
              "  <div id=\"df-fa3fd4cc-3631-4f75-bc68-5fa949e0790b\">\n",
              "    <div class=\"colab-df-container\">\n",
              "      <div>\n",
              "<style scoped>\n",
              "    .dataframe tbody tr th:only-of-type {\n",
              "        vertical-align: middle;\n",
              "    }\n",
              "\n",
              "    .dataframe tbody tr th {\n",
              "        vertical-align: top;\n",
              "    }\n",
              "\n",
              "    .dataframe thead th {\n",
              "        text-align: right;\n",
              "    }\n",
              "</style>\n",
              "<table border=\"1\" class=\"dataframe\">\n",
              "  <thead>\n",
              "    <tr style=\"text-align: right;\">\n",
              "      <th></th>\n",
              "      <th>state</th>\n",
              "      <th>gender</th>\n",
              "      <th>last_name</th>\n",
              "    </tr>\n",
              "  </thead>\n",
              "  <tbody>\n",
              "    <tr>\n",
              "      <th>0</th>\n",
              "      <td>AK</td>\n",
              "      <td>F</td>\n",
              "      <td>0</td>\n",
              "    </tr>\n",
              "    <tr>\n",
              "      <th>1</th>\n",
              "      <td>AK</td>\n",
              "      <td>M</td>\n",
              "      <td>16</td>\n",
              "    </tr>\n",
              "    <tr>\n",
              "      <th>2</th>\n",
              "      <td>AL</td>\n",
              "      <td>F</td>\n",
              "      <td>3</td>\n",
              "    </tr>\n",
              "    <tr>\n",
              "      <th>3</th>\n",
              "      <td>AL</td>\n",
              "      <td>M</td>\n",
              "      <td>203</td>\n",
              "    </tr>\n",
              "    <tr>\n",
              "      <th>4</th>\n",
              "      <td>AR</td>\n",
              "      <td>F</td>\n",
              "      <td>5</td>\n",
              "    </tr>\n",
              "    <tr>\n",
              "      <th>...</th>\n",
              "      <td>...</td>\n",
              "      <td>...</td>\n",
              "      <td>...</td>\n",
              "    </tr>\n",
              "    <tr>\n",
              "      <th>111</th>\n",
              "      <td>WI</td>\n",
              "      <td>M</td>\n",
              "      <td>196</td>\n",
              "    </tr>\n",
              "    <tr>\n",
              "      <th>112</th>\n",
              "      <td>WV</td>\n",
              "      <td>F</td>\n",
              "      <td>1</td>\n",
              "    </tr>\n",
              "    <tr>\n",
              "      <th>113</th>\n",
              "      <td>WV</td>\n",
              "      <td>M</td>\n",
              "      <td>119</td>\n",
              "    </tr>\n",
              "    <tr>\n",
              "      <th>114</th>\n",
              "      <td>WY</td>\n",
              "      <td>F</td>\n",
              "      <td>2</td>\n",
              "    </tr>\n",
              "    <tr>\n",
              "      <th>115</th>\n",
              "      <td>WY</td>\n",
              "      <td>M</td>\n",
              "      <td>38</td>\n",
              "    </tr>\n",
              "  </tbody>\n",
              "</table>\n",
              "<p>116 rows × 3 columns</p>\n",
              "</div>\n",
              "      <button class=\"colab-df-convert\" onclick=\"convertToInteractive('df-fa3fd4cc-3631-4f75-bc68-5fa949e0790b')\"\n",
              "              title=\"Convert this dataframe to an interactive table.\"\n",
              "              style=\"display:none;\">\n",
              "        \n",
              "  <svg xmlns=\"http://www.w3.org/2000/svg\" height=\"24px\"viewBox=\"0 0 24 24\"\n",
              "       width=\"24px\">\n",
              "    <path d=\"M0 0h24v24H0V0z\" fill=\"none\"/>\n",
              "    <path d=\"M18.56 5.44l.94 2.06.94-2.06 2.06-.94-2.06-.94-.94-2.06-.94 2.06-2.06.94zm-11 1L8.5 8.5l.94-2.06 2.06-.94-2.06-.94L8.5 2.5l-.94 2.06-2.06.94zm10 10l.94 2.06.94-2.06 2.06-.94-2.06-.94-.94-2.06-.94 2.06-2.06.94z\"/><path d=\"M17.41 7.96l-1.37-1.37c-.4-.4-.92-.59-1.43-.59-.52 0-1.04.2-1.43.59L10.3 9.45l-7.72 7.72c-.78.78-.78 2.05 0 2.83L4 21.41c.39.39.9.59 1.41.59.51 0 1.02-.2 1.41-.59l7.78-7.78 2.81-2.81c.8-.78.8-2.07 0-2.86zM5.41 20L4 18.59l7.72-7.72 1.47 1.35L5.41 20z\"/>\n",
              "  </svg>\n",
              "      </button>\n",
              "      \n",
              "  <style>\n",
              "    .colab-df-container {\n",
              "      display:flex;\n",
              "      flex-wrap:wrap;\n",
              "      gap: 12px;\n",
              "    }\n",
              "\n",
              "    .colab-df-convert {\n",
              "      background-color: #E8F0FE;\n",
              "      border: none;\n",
              "      border-radius: 50%;\n",
              "      cursor: pointer;\n",
              "      display: none;\n",
              "      fill: #1967D2;\n",
              "      height: 32px;\n",
              "      padding: 0 0 0 0;\n",
              "      width: 32px;\n",
              "    }\n",
              "\n",
              "    .colab-df-convert:hover {\n",
              "      background-color: #E2EBFA;\n",
              "      box-shadow: 0px 1px 2px rgba(60, 64, 67, 0.3), 0px 1px 3px 1px rgba(60, 64, 67, 0.15);\n",
              "      fill: #174EA6;\n",
              "    }\n",
              "\n",
              "    [theme=dark] .colab-df-convert {\n",
              "      background-color: #3B4455;\n",
              "      fill: #D2E3FC;\n",
              "    }\n",
              "\n",
              "    [theme=dark] .colab-df-convert:hover {\n",
              "      background-color: #434B5C;\n",
              "      box-shadow: 0px 1px 3px 1px rgba(0, 0, 0, 0.15);\n",
              "      filter: drop-shadow(0px 1px 2px rgba(0, 0, 0, 0.3));\n",
              "      fill: #FFFFFF;\n",
              "    }\n",
              "  </style>\n",
              "\n",
              "      <script>\n",
              "        const buttonEl =\n",
              "          document.querySelector('#df-fa3fd4cc-3631-4f75-bc68-5fa949e0790b button.colab-df-convert');\n",
              "        buttonEl.style.display =\n",
              "          google.colab.kernel.accessAllowed ? 'block' : 'none';\n",
              "\n",
              "        async function convertToInteractive(key) {\n",
              "          const element = document.querySelector('#df-fa3fd4cc-3631-4f75-bc68-5fa949e0790b');\n",
              "          const dataTable =\n",
              "            await google.colab.kernel.invokeFunction('convertToInteractive',\n",
              "                                                     [key], {});\n",
              "          if (!dataTable) return;\n",
              "\n",
              "          const docLinkHtml = 'Like what you see? Visit the ' +\n",
              "            '<a target=\"_blank\" href=https://colab.research.google.com/notebooks/data_table.ipynb>data table notebook</a>'\n",
              "            + ' to learn more about interactive tables.';\n",
              "          element.innerHTML = '';\n",
              "          dataTable['output_type'] = 'display_data';\n",
              "          await google.colab.output.renderOutput(dataTable, element);\n",
              "          const docLink = document.createElement('div');\n",
              "          docLink.innerHTML = docLinkHtml;\n",
              "          element.appendChild(docLink);\n",
              "        }\n",
              "      </script>\n",
              "    </div>\n",
              "  </div>\n",
              "  "
            ]
          },
          "metadata": {},
          "execution_count": 14
        }
      ]
    },
    {
      "cell_type": "code",
      "source": [
        "#### sql for line 12\n",
        "# select state, gender, count(name)\n",
        "# from df\n",
        "# group by state, gender   \n",
        "# order by state, gender;"
      ],
      "metadata": {
        "id": "AchmlwY3LznE"
      },
      "execution_count": null,
      "outputs": []
    },
    {
      "cell_type": "code",
      "source": [
        "#Using .count() excludes NaN values, while .size() includes everything\n",
        "n_by_state_gender = df.groupby(['state', 'gender'])['last_name'].count()\n",
        "n_by_state_gender.index[:5]"
      ],
      "metadata": {
        "colab": {
          "base_uri": "https://localhost:8080/"
        },
        "id": "2V7hUHLPLzpB",
        "outputId": "aa8c78d6-be04-431b-d67e-499d0ad6623c"
      },
      "execution_count": null,
      "outputs": [
        {
          "output_type": "execute_result",
          "data": {
            "text/plain": [
              "MultiIndex([('AK', 'F'),\n",
              "            ('AK', 'M'),\n",
              "            ('AL', 'F'),\n",
              "            ('AL', 'M'),\n",
              "            ('AR', 'F')],\n",
              "           names=['state', 'gender'])"
            ]
          },
          "metadata": {},
          "execution_count": 13
        }
      ]
    },
    {
      "cell_type": "code",
      "source": [
        "by_state = df.groupby(\"state\")"
      ],
      "metadata": {
        "id": "CLHlUTMqWfXW"
      },
      "execution_count": null,
      "outputs": []
    },
    {
      "cell_type": "code",
      "source": [
        "for state, frame in by_state:\n",
        "  print(f\"First 2 entries for {state!r}\")\n",
        "  print(\"------------------------\")\n",
        "  print(frame.head(2), end=\"\\n\\n\")\n"
      ],
      "metadata": {
        "id": "FHc2LAigR3qL"
      },
      "execution_count": null,
      "outputs": []
    },
    {
      "cell_type": "code",
      "source": [
        "# df.loc[df[\"state\"] == \"PA\"]\n",
        "by_state.get_group(\"AZ\")"
      ],
      "metadata": {
        "id": "qkomATWkR3sP"
      },
      "execution_count": null,
      "outputs": []
    },
    {
      "cell_type": "code",
      "source": [
        "df = pd.read_csv(\"/content/airqual.csv\")\n",
        "df.head()"
      ],
      "metadata": {
        "colab": {
          "base_uri": "https://localhost:8080/",
          "height": 270
        },
        "id": "NiGd6DyOR3wB",
        "outputId": "44c91fb8-6eef-499c-f807-78eb76b62b80"
      },
      "execution_count": null,
      "outputs": [
        {
          "output_type": "execute_result",
          "data": {
            "text/plain": [
              "      Date      Time  CO(GT)  PT08.S1(CO)  NMHC(GT)  C6H6(GT)  PT08.S2(NMHC)  \\\n",
              "0  3/10/04  18:00:00     2.6         1360       150      11.9           1046   \n",
              "1  3/10/04  19:00:00     2.0         1292       112       9.4            955   \n",
              "2  3/10/04  20:00:00     2.2         1402        88       9.0            939   \n",
              "3  3/10/04  21:00:00     2.2         1376        80       9.2            948   \n",
              "4  3/10/04  22:00:00     1.6         1272        51       6.5            836   \n",
              "\n",
              "   NOx(GT)  PT08.S3(NOx)  NO2(GT)  PT08.S4(NO2)  PT08.S5(O3)     T    RH  \\\n",
              "0      166          1056      113          1692         1268  13.6  48.9   \n",
              "1      103          1174       92          1559          972  13.3  47.7   \n",
              "2      131          1140      114          1555         1074  11.9  54.0   \n",
              "3      172          1092      122          1584         1203  11.0  60.0   \n",
              "4      131          1205      116          1490         1110  11.2  59.6   \n",
              "\n",
              "       AH  \n",
              "0  0.7578  \n",
              "1  0.7255  \n",
              "2  0.7502  \n",
              "3  0.7867  \n",
              "4  0.7888  "
            ],
            "text/html": [
              "\n",
              "  <div id=\"df-413a20b6-e0f4-4f79-ab38-52bb9287310a\">\n",
              "    <div class=\"colab-df-container\">\n",
              "      <div>\n",
              "<style scoped>\n",
              "    .dataframe tbody tr th:only-of-type {\n",
              "        vertical-align: middle;\n",
              "    }\n",
              "\n",
              "    .dataframe tbody tr th {\n",
              "        vertical-align: top;\n",
              "    }\n",
              "\n",
              "    .dataframe thead th {\n",
              "        text-align: right;\n",
              "    }\n",
              "</style>\n",
              "<table border=\"1\" class=\"dataframe\">\n",
              "  <thead>\n",
              "    <tr style=\"text-align: right;\">\n",
              "      <th></th>\n",
              "      <th>Date</th>\n",
              "      <th>Time</th>\n",
              "      <th>CO(GT)</th>\n",
              "      <th>PT08.S1(CO)</th>\n",
              "      <th>NMHC(GT)</th>\n",
              "      <th>C6H6(GT)</th>\n",
              "      <th>PT08.S2(NMHC)</th>\n",
              "      <th>NOx(GT)</th>\n",
              "      <th>PT08.S3(NOx)</th>\n",
              "      <th>NO2(GT)</th>\n",
              "      <th>PT08.S4(NO2)</th>\n",
              "      <th>PT08.S5(O3)</th>\n",
              "      <th>T</th>\n",
              "      <th>RH</th>\n",
              "      <th>AH</th>\n",
              "    </tr>\n",
              "  </thead>\n",
              "  <tbody>\n",
              "    <tr>\n",
              "      <th>0</th>\n",
              "      <td>3/10/04</td>\n",
              "      <td>18:00:00</td>\n",
              "      <td>2.6</td>\n",
              "      <td>1360</td>\n",
              "      <td>150</td>\n",
              "      <td>11.9</td>\n",
              "      <td>1046</td>\n",
              "      <td>166</td>\n",
              "      <td>1056</td>\n",
              "      <td>113</td>\n",
              "      <td>1692</td>\n",
              "      <td>1268</td>\n",
              "      <td>13.6</td>\n",
              "      <td>48.9</td>\n",
              "      <td>0.7578</td>\n",
              "    </tr>\n",
              "    <tr>\n",
              "      <th>1</th>\n",
              "      <td>3/10/04</td>\n",
              "      <td>19:00:00</td>\n",
              "      <td>2.0</td>\n",
              "      <td>1292</td>\n",
              "      <td>112</td>\n",
              "      <td>9.4</td>\n",
              "      <td>955</td>\n",
              "      <td>103</td>\n",
              "      <td>1174</td>\n",
              "      <td>92</td>\n",
              "      <td>1559</td>\n",
              "      <td>972</td>\n",
              "      <td>13.3</td>\n",
              "      <td>47.7</td>\n",
              "      <td>0.7255</td>\n",
              "    </tr>\n",
              "    <tr>\n",
              "      <th>2</th>\n",
              "      <td>3/10/04</td>\n",
              "      <td>20:00:00</td>\n",
              "      <td>2.2</td>\n",
              "      <td>1402</td>\n",
              "      <td>88</td>\n",
              "      <td>9.0</td>\n",
              "      <td>939</td>\n",
              "      <td>131</td>\n",
              "      <td>1140</td>\n",
              "      <td>114</td>\n",
              "      <td>1555</td>\n",
              "      <td>1074</td>\n",
              "      <td>11.9</td>\n",
              "      <td>54.0</td>\n",
              "      <td>0.7502</td>\n",
              "    </tr>\n",
              "    <tr>\n",
              "      <th>3</th>\n",
              "      <td>3/10/04</td>\n",
              "      <td>21:00:00</td>\n",
              "      <td>2.2</td>\n",
              "      <td>1376</td>\n",
              "      <td>80</td>\n",
              "      <td>9.2</td>\n",
              "      <td>948</td>\n",
              "      <td>172</td>\n",
              "      <td>1092</td>\n",
              "      <td>122</td>\n",
              "      <td>1584</td>\n",
              "      <td>1203</td>\n",
              "      <td>11.0</td>\n",
              "      <td>60.0</td>\n",
              "      <td>0.7867</td>\n",
              "    </tr>\n",
              "    <tr>\n",
              "      <th>4</th>\n",
              "      <td>3/10/04</td>\n",
              "      <td>22:00:00</td>\n",
              "      <td>1.6</td>\n",
              "      <td>1272</td>\n",
              "      <td>51</td>\n",
              "      <td>6.5</td>\n",
              "      <td>836</td>\n",
              "      <td>131</td>\n",
              "      <td>1205</td>\n",
              "      <td>116</td>\n",
              "      <td>1490</td>\n",
              "      <td>1110</td>\n",
              "      <td>11.2</td>\n",
              "      <td>59.6</td>\n",
              "      <td>0.7888</td>\n",
              "    </tr>\n",
              "  </tbody>\n",
              "</table>\n",
              "</div>\n",
              "      <button class=\"colab-df-convert\" onclick=\"convertToInteractive('df-413a20b6-e0f4-4f79-ab38-52bb9287310a')\"\n",
              "              title=\"Convert this dataframe to an interactive table.\"\n",
              "              style=\"display:none;\">\n",
              "        \n",
              "  <svg xmlns=\"http://www.w3.org/2000/svg\" height=\"24px\"viewBox=\"0 0 24 24\"\n",
              "       width=\"24px\">\n",
              "    <path d=\"M0 0h24v24H0V0z\" fill=\"none\"/>\n",
              "    <path d=\"M18.56 5.44l.94 2.06.94-2.06 2.06-.94-2.06-.94-.94-2.06-.94 2.06-2.06.94zm-11 1L8.5 8.5l.94-2.06 2.06-.94-2.06-.94L8.5 2.5l-.94 2.06-2.06.94zm10 10l.94 2.06.94-2.06 2.06-.94-2.06-.94-.94-2.06-.94 2.06-2.06.94z\"/><path d=\"M17.41 7.96l-1.37-1.37c-.4-.4-.92-.59-1.43-.59-.52 0-1.04.2-1.43.59L10.3 9.45l-7.72 7.72c-.78.78-.78 2.05 0 2.83L4 21.41c.39.39.9.59 1.41.59.51 0 1.02-.2 1.41-.59l7.78-7.78 2.81-2.81c.8-.78.8-2.07 0-2.86zM5.41 20L4 18.59l7.72-7.72 1.47 1.35L5.41 20z\"/>\n",
              "  </svg>\n",
              "      </button>\n",
              "      \n",
              "  <style>\n",
              "    .colab-df-container {\n",
              "      display:flex;\n",
              "      flex-wrap:wrap;\n",
              "      gap: 12px;\n",
              "    }\n",
              "\n",
              "    .colab-df-convert {\n",
              "      background-color: #E8F0FE;\n",
              "      border: none;\n",
              "      border-radius: 50%;\n",
              "      cursor: pointer;\n",
              "      display: none;\n",
              "      fill: #1967D2;\n",
              "      height: 32px;\n",
              "      padding: 0 0 0 0;\n",
              "      width: 32px;\n",
              "    }\n",
              "\n",
              "    .colab-df-convert:hover {\n",
              "      background-color: #E2EBFA;\n",
              "      box-shadow: 0px 1px 2px rgba(60, 64, 67, 0.3), 0px 1px 3px 1px rgba(60, 64, 67, 0.15);\n",
              "      fill: #174EA6;\n",
              "    }\n",
              "\n",
              "    [theme=dark] .colab-df-convert {\n",
              "      background-color: #3B4455;\n",
              "      fill: #D2E3FC;\n",
              "    }\n",
              "\n",
              "    [theme=dark] .colab-df-convert:hover {\n",
              "      background-color: #434B5C;\n",
              "      box-shadow: 0px 1px 3px 1px rgba(0, 0, 0, 0.15);\n",
              "      filter: drop-shadow(0px 1px 2px rgba(0, 0, 0, 0.3));\n",
              "      fill: #FFFFFF;\n",
              "    }\n",
              "  </style>\n",
              "\n",
              "      <script>\n",
              "        const buttonEl =\n",
              "          document.querySelector('#df-413a20b6-e0f4-4f79-ab38-52bb9287310a button.colab-df-convert');\n",
              "        buttonEl.style.display =\n",
              "          google.colab.kernel.accessAllowed ? 'block' : 'none';\n",
              "\n",
              "        async function convertToInteractive(key) {\n",
              "          const element = document.querySelector('#df-413a20b6-e0f4-4f79-ab38-52bb9287310a');\n",
              "          const dataTable =\n",
              "            await google.colab.kernel.invokeFunction('convertToInteractive',\n",
              "                                                     [key], {});\n",
              "          if (!dataTable) return;\n",
              "\n",
              "          const docLinkHtml = 'Like what you see? Visit the ' +\n",
              "            '<a target=\"_blank\" href=https://colab.research.google.com/notebooks/data_table.ipynb>data table notebook</a>'\n",
              "            + ' to learn more about interactive tables.';\n",
              "          element.innerHTML = '';\n",
              "          dataTable['output_type'] = 'display_data';\n",
              "          await google.colab.output.renderOutput(dataTable, element);\n",
              "          const docLink = document.createElement('div');\n",
              "          docLink.innerHTML = docLinkHtml;\n",
              "          element.appendChild(docLink);\n",
              "        }\n",
              "      </script>\n",
              "    </div>\n",
              "  </div>\n",
              "  "
            ]
          },
          "metadata": {},
          "execution_count": 19
        }
      ]
    },
    {
      "cell_type": "code",
      "source": [
        "df = pd.read_csv(\"/content/airqual.csv\",\n",
        "                 parse_dates=[['Date', 'Time']],\n",
        "                 na_values = [-200],\n",
        "                 usecols =['Date', 'Time', 'CO(GT)', 'T', 'RH', 'AH']).rename(\n",
        "                     columns={\n",
        "                         'CO(GT)' :'co',\n",
        "                         'Date_Time': 'tstamp',\n",
        "                         'T': 'temp_c',\n",
        "                         'RH': 'rel_hum',\n",
        "                         'AH': 'abs_hum',\n",
        "                     }\n",
        "                 ).set_index('tstamp')\n",
        "df.head(50)"
      ],
      "metadata": {
        "colab": {
          "base_uri": "https://localhost:8080/",
          "height": 1000
        },
        "id": "ZJhkFApwR3x-",
        "outputId": "d1bde850-10fa-4af5-80a8-34aeb8fc4d31"
      },
      "execution_count": null,
      "outputs": [
        {
          "output_type": "execute_result",
          "data": {
            "text/plain": [
              "                      co  temp_c  rel_hum  abs_hum\n",
              "tstamp                                            \n",
              "2004-03-10 18:00:00  2.6    13.6     48.9   0.7578\n",
              "2004-03-10 19:00:00  2.0    13.3     47.7   0.7255\n",
              "2004-03-10 20:00:00  2.2    11.9     54.0   0.7502\n",
              "2004-03-10 21:00:00  2.2    11.0     60.0   0.7867\n",
              "2004-03-10 22:00:00  1.6    11.2     59.6   0.7888\n",
              "2004-03-10 23:00:00  1.2    11.2     59.2   0.7848\n",
              "2004-03-11 00:00:00  1.2    11.3     56.8   0.7603\n",
              "2004-03-11 01:00:00  1.0    10.7     60.0   0.7702\n",
              "2004-03-11 02:00:00  0.9    10.7     59.7   0.7648\n",
              "2004-03-11 03:00:00  0.6    10.3     60.2   0.7517\n",
              "2004-03-11 04:00:00  NaN    10.1     60.5   0.7465\n",
              "2004-03-11 05:00:00  0.7    11.0     56.2   0.7366\n",
              "2004-03-11 06:00:00  0.7    10.5     58.1   0.7353\n",
              "2004-03-11 07:00:00  1.1    10.2     59.6   0.7417\n",
              "2004-03-11 08:00:00  2.0    10.8     57.4   0.7408\n",
              "2004-03-11 09:00:00  2.2    10.5     60.6   0.7691\n",
              "2004-03-11 10:00:00  1.7    10.8     58.4   0.7552\n",
              "2004-03-11 11:00:00  1.5    10.5     57.9   0.7352\n",
              "2004-03-11 12:00:00  1.6     9.5     66.8   0.7951\n",
              "2004-03-11 13:00:00  1.9     8.3     76.4   0.8393\n",
              "2004-03-11 14:00:00  2.9     8.0     81.1   0.8736\n",
              "2004-03-11 15:00:00  2.2     8.3     79.8   0.8778\n",
              "2004-03-11 16:00:00  2.2     9.7     71.2   0.8569\n",
              "2004-03-11 17:00:00  2.9     9.8     67.6   0.8185\n",
              "2004-03-11 18:00:00  4.8    10.3     64.2   0.8065\n",
              "2004-03-11 19:00:00  6.9     9.7     69.3   0.8319\n",
              "2004-03-11 20:00:00  6.1     9.6     67.8   0.8133\n",
              "2004-03-11 21:00:00  3.9     9.1     64.0   0.7419\n",
              "2004-03-11 22:00:00  1.5     8.2     63.4   0.6905\n",
              "2004-03-11 23:00:00  1.0     8.2     60.8   0.6657\n",
              "2004-03-12 00:00:00  1.7     8.3     58.5   0.6438\n",
              "2004-03-12 01:00:00  1.9     7.7     59.7   0.6308\n",
              "2004-03-12 02:00:00  1.4     7.1     61.8   0.6276\n",
              "2004-03-12 03:00:00  0.8     7.0     62.3   0.6261\n",
              "2004-03-12 04:00:00  NaN     6.1     65.9   0.6248\n",
              "2004-03-12 05:00:00  0.6     6.3     65.0   0.6233\n",
              "2004-03-12 06:00:00  0.8     6.8     62.9   0.6234\n",
              "2004-03-12 07:00:00  1.4     6.4     65.1   0.6316\n",
              "2004-03-12 08:00:00  4.4     7.3     63.1   0.6499\n",
              "2004-03-12 09:00:00  NaN     9.2     56.2   0.6561\n",
              "2004-03-12 10:00:00  3.1    13.2     41.7   0.6320\n",
              "2004-03-12 11:00:00  2.7    14.3     38.4   0.6243\n",
              "2004-03-12 12:00:00  2.1    15.0     36.5   0.6195\n",
              "2004-03-12 13:00:00  2.5    16.1     34.5   0.6262\n",
              "2004-03-12 14:00:00  2.7    16.3     35.7   0.6560\n",
              "2004-03-12 15:00:00  2.9    15.8     37.0   0.6610\n",
              "2004-03-12 16:00:00  2.8    15.9     37.2   0.6657\n",
              "2004-03-12 17:00:00  2.4    16.9     34.3   0.6549\n",
              "2004-03-12 18:00:00  3.9    15.1     39.6   0.6766\n",
              "2004-03-12 19:00:00  3.7    14.4     43.4   0.7084"
            ],
            "text/html": [
              "\n",
              "  <div id=\"df-cd5feddf-0f3d-4b6c-8dbf-8f045178aecd\">\n",
              "    <div class=\"colab-df-container\">\n",
              "      <div>\n",
              "<style scoped>\n",
              "    .dataframe tbody tr th:only-of-type {\n",
              "        vertical-align: middle;\n",
              "    }\n",
              "\n",
              "    .dataframe tbody tr th {\n",
              "        vertical-align: top;\n",
              "    }\n",
              "\n",
              "    .dataframe thead th {\n",
              "        text-align: right;\n",
              "    }\n",
              "</style>\n",
              "<table border=\"1\" class=\"dataframe\">\n",
              "  <thead>\n",
              "    <tr style=\"text-align: right;\">\n",
              "      <th></th>\n",
              "      <th>co</th>\n",
              "      <th>temp_c</th>\n",
              "      <th>rel_hum</th>\n",
              "      <th>abs_hum</th>\n",
              "    </tr>\n",
              "    <tr>\n",
              "      <th>tstamp</th>\n",
              "      <th></th>\n",
              "      <th></th>\n",
              "      <th></th>\n",
              "      <th></th>\n",
              "    </tr>\n",
              "  </thead>\n",
              "  <tbody>\n",
              "    <tr>\n",
              "      <th>2004-03-10 18:00:00</th>\n",
              "      <td>2.6</td>\n",
              "      <td>13.6</td>\n",
              "      <td>48.9</td>\n",
              "      <td>0.7578</td>\n",
              "    </tr>\n",
              "    <tr>\n",
              "      <th>2004-03-10 19:00:00</th>\n",
              "      <td>2.0</td>\n",
              "      <td>13.3</td>\n",
              "      <td>47.7</td>\n",
              "      <td>0.7255</td>\n",
              "    </tr>\n",
              "    <tr>\n",
              "      <th>2004-03-10 20:00:00</th>\n",
              "      <td>2.2</td>\n",
              "      <td>11.9</td>\n",
              "      <td>54.0</td>\n",
              "      <td>0.7502</td>\n",
              "    </tr>\n",
              "    <tr>\n",
              "      <th>2004-03-10 21:00:00</th>\n",
              "      <td>2.2</td>\n",
              "      <td>11.0</td>\n",
              "      <td>60.0</td>\n",
              "      <td>0.7867</td>\n",
              "    </tr>\n",
              "    <tr>\n",
              "      <th>2004-03-10 22:00:00</th>\n",
              "      <td>1.6</td>\n",
              "      <td>11.2</td>\n",
              "      <td>59.6</td>\n",
              "      <td>0.7888</td>\n",
              "    </tr>\n",
              "    <tr>\n",
              "      <th>2004-03-10 23:00:00</th>\n",
              "      <td>1.2</td>\n",
              "      <td>11.2</td>\n",
              "      <td>59.2</td>\n",
              "      <td>0.7848</td>\n",
              "    </tr>\n",
              "    <tr>\n",
              "      <th>2004-03-11 00:00:00</th>\n",
              "      <td>1.2</td>\n",
              "      <td>11.3</td>\n",
              "      <td>56.8</td>\n",
              "      <td>0.7603</td>\n",
              "    </tr>\n",
              "    <tr>\n",
              "      <th>2004-03-11 01:00:00</th>\n",
              "      <td>1.0</td>\n",
              "      <td>10.7</td>\n",
              "      <td>60.0</td>\n",
              "      <td>0.7702</td>\n",
              "    </tr>\n",
              "    <tr>\n",
              "      <th>2004-03-11 02:00:00</th>\n",
              "      <td>0.9</td>\n",
              "      <td>10.7</td>\n",
              "      <td>59.7</td>\n",
              "      <td>0.7648</td>\n",
              "    </tr>\n",
              "    <tr>\n",
              "      <th>2004-03-11 03:00:00</th>\n",
              "      <td>0.6</td>\n",
              "      <td>10.3</td>\n",
              "      <td>60.2</td>\n",
              "      <td>0.7517</td>\n",
              "    </tr>\n",
              "    <tr>\n",
              "      <th>2004-03-11 04:00:00</th>\n",
              "      <td>NaN</td>\n",
              "      <td>10.1</td>\n",
              "      <td>60.5</td>\n",
              "      <td>0.7465</td>\n",
              "    </tr>\n",
              "    <tr>\n",
              "      <th>2004-03-11 05:00:00</th>\n",
              "      <td>0.7</td>\n",
              "      <td>11.0</td>\n",
              "      <td>56.2</td>\n",
              "      <td>0.7366</td>\n",
              "    </tr>\n",
              "    <tr>\n",
              "      <th>2004-03-11 06:00:00</th>\n",
              "      <td>0.7</td>\n",
              "      <td>10.5</td>\n",
              "      <td>58.1</td>\n",
              "      <td>0.7353</td>\n",
              "    </tr>\n",
              "    <tr>\n",
              "      <th>2004-03-11 07:00:00</th>\n",
              "      <td>1.1</td>\n",
              "      <td>10.2</td>\n",
              "      <td>59.6</td>\n",
              "      <td>0.7417</td>\n",
              "    </tr>\n",
              "    <tr>\n",
              "      <th>2004-03-11 08:00:00</th>\n",
              "      <td>2.0</td>\n",
              "      <td>10.8</td>\n",
              "      <td>57.4</td>\n",
              "      <td>0.7408</td>\n",
              "    </tr>\n",
              "    <tr>\n",
              "      <th>2004-03-11 09:00:00</th>\n",
              "      <td>2.2</td>\n",
              "      <td>10.5</td>\n",
              "      <td>60.6</td>\n",
              "      <td>0.7691</td>\n",
              "    </tr>\n",
              "    <tr>\n",
              "      <th>2004-03-11 10:00:00</th>\n",
              "      <td>1.7</td>\n",
              "      <td>10.8</td>\n",
              "      <td>58.4</td>\n",
              "      <td>0.7552</td>\n",
              "    </tr>\n",
              "    <tr>\n",
              "      <th>2004-03-11 11:00:00</th>\n",
              "      <td>1.5</td>\n",
              "      <td>10.5</td>\n",
              "      <td>57.9</td>\n",
              "      <td>0.7352</td>\n",
              "    </tr>\n",
              "    <tr>\n",
              "      <th>2004-03-11 12:00:00</th>\n",
              "      <td>1.6</td>\n",
              "      <td>9.5</td>\n",
              "      <td>66.8</td>\n",
              "      <td>0.7951</td>\n",
              "    </tr>\n",
              "    <tr>\n",
              "      <th>2004-03-11 13:00:00</th>\n",
              "      <td>1.9</td>\n",
              "      <td>8.3</td>\n",
              "      <td>76.4</td>\n",
              "      <td>0.8393</td>\n",
              "    </tr>\n",
              "    <tr>\n",
              "      <th>2004-03-11 14:00:00</th>\n",
              "      <td>2.9</td>\n",
              "      <td>8.0</td>\n",
              "      <td>81.1</td>\n",
              "      <td>0.8736</td>\n",
              "    </tr>\n",
              "    <tr>\n",
              "      <th>2004-03-11 15:00:00</th>\n",
              "      <td>2.2</td>\n",
              "      <td>8.3</td>\n",
              "      <td>79.8</td>\n",
              "      <td>0.8778</td>\n",
              "    </tr>\n",
              "    <tr>\n",
              "      <th>2004-03-11 16:00:00</th>\n",
              "      <td>2.2</td>\n",
              "      <td>9.7</td>\n",
              "      <td>71.2</td>\n",
              "      <td>0.8569</td>\n",
              "    </tr>\n",
              "    <tr>\n",
              "      <th>2004-03-11 17:00:00</th>\n",
              "      <td>2.9</td>\n",
              "      <td>9.8</td>\n",
              "      <td>67.6</td>\n",
              "      <td>0.8185</td>\n",
              "    </tr>\n",
              "    <tr>\n",
              "      <th>2004-03-11 18:00:00</th>\n",
              "      <td>4.8</td>\n",
              "      <td>10.3</td>\n",
              "      <td>64.2</td>\n",
              "      <td>0.8065</td>\n",
              "    </tr>\n",
              "    <tr>\n",
              "      <th>2004-03-11 19:00:00</th>\n",
              "      <td>6.9</td>\n",
              "      <td>9.7</td>\n",
              "      <td>69.3</td>\n",
              "      <td>0.8319</td>\n",
              "    </tr>\n",
              "    <tr>\n",
              "      <th>2004-03-11 20:00:00</th>\n",
              "      <td>6.1</td>\n",
              "      <td>9.6</td>\n",
              "      <td>67.8</td>\n",
              "      <td>0.8133</td>\n",
              "    </tr>\n",
              "    <tr>\n",
              "      <th>2004-03-11 21:00:00</th>\n",
              "      <td>3.9</td>\n",
              "      <td>9.1</td>\n",
              "      <td>64.0</td>\n",
              "      <td>0.7419</td>\n",
              "    </tr>\n",
              "    <tr>\n",
              "      <th>2004-03-11 22:00:00</th>\n",
              "      <td>1.5</td>\n",
              "      <td>8.2</td>\n",
              "      <td>63.4</td>\n",
              "      <td>0.6905</td>\n",
              "    </tr>\n",
              "    <tr>\n",
              "      <th>2004-03-11 23:00:00</th>\n",
              "      <td>1.0</td>\n",
              "      <td>8.2</td>\n",
              "      <td>60.8</td>\n",
              "      <td>0.6657</td>\n",
              "    </tr>\n",
              "    <tr>\n",
              "      <th>2004-03-12 00:00:00</th>\n",
              "      <td>1.7</td>\n",
              "      <td>8.3</td>\n",
              "      <td>58.5</td>\n",
              "      <td>0.6438</td>\n",
              "    </tr>\n",
              "    <tr>\n",
              "      <th>2004-03-12 01:00:00</th>\n",
              "      <td>1.9</td>\n",
              "      <td>7.7</td>\n",
              "      <td>59.7</td>\n",
              "      <td>0.6308</td>\n",
              "    </tr>\n",
              "    <tr>\n",
              "      <th>2004-03-12 02:00:00</th>\n",
              "      <td>1.4</td>\n",
              "      <td>7.1</td>\n",
              "      <td>61.8</td>\n",
              "      <td>0.6276</td>\n",
              "    </tr>\n",
              "    <tr>\n",
              "      <th>2004-03-12 03:00:00</th>\n",
              "      <td>0.8</td>\n",
              "      <td>7.0</td>\n",
              "      <td>62.3</td>\n",
              "      <td>0.6261</td>\n",
              "    </tr>\n",
              "    <tr>\n",
              "      <th>2004-03-12 04:00:00</th>\n",
              "      <td>NaN</td>\n",
              "      <td>6.1</td>\n",
              "      <td>65.9</td>\n",
              "      <td>0.6248</td>\n",
              "    </tr>\n",
              "    <tr>\n",
              "      <th>2004-03-12 05:00:00</th>\n",
              "      <td>0.6</td>\n",
              "      <td>6.3</td>\n",
              "      <td>65.0</td>\n",
              "      <td>0.6233</td>\n",
              "    </tr>\n",
              "    <tr>\n",
              "      <th>2004-03-12 06:00:00</th>\n",
              "      <td>0.8</td>\n",
              "      <td>6.8</td>\n",
              "      <td>62.9</td>\n",
              "      <td>0.6234</td>\n",
              "    </tr>\n",
              "    <tr>\n",
              "      <th>2004-03-12 07:00:00</th>\n",
              "      <td>1.4</td>\n",
              "      <td>6.4</td>\n",
              "      <td>65.1</td>\n",
              "      <td>0.6316</td>\n",
              "    </tr>\n",
              "    <tr>\n",
              "      <th>2004-03-12 08:00:00</th>\n",
              "      <td>4.4</td>\n",
              "      <td>7.3</td>\n",
              "      <td>63.1</td>\n",
              "      <td>0.6499</td>\n",
              "    </tr>\n",
              "    <tr>\n",
              "      <th>2004-03-12 09:00:00</th>\n",
              "      <td>NaN</td>\n",
              "      <td>9.2</td>\n",
              "      <td>56.2</td>\n",
              "      <td>0.6561</td>\n",
              "    </tr>\n",
              "    <tr>\n",
              "      <th>2004-03-12 10:00:00</th>\n",
              "      <td>3.1</td>\n",
              "      <td>13.2</td>\n",
              "      <td>41.7</td>\n",
              "      <td>0.6320</td>\n",
              "    </tr>\n",
              "    <tr>\n",
              "      <th>2004-03-12 11:00:00</th>\n",
              "      <td>2.7</td>\n",
              "      <td>14.3</td>\n",
              "      <td>38.4</td>\n",
              "      <td>0.6243</td>\n",
              "    </tr>\n",
              "    <tr>\n",
              "      <th>2004-03-12 12:00:00</th>\n",
              "      <td>2.1</td>\n",
              "      <td>15.0</td>\n",
              "      <td>36.5</td>\n",
              "      <td>0.6195</td>\n",
              "    </tr>\n",
              "    <tr>\n",
              "      <th>2004-03-12 13:00:00</th>\n",
              "      <td>2.5</td>\n",
              "      <td>16.1</td>\n",
              "      <td>34.5</td>\n",
              "      <td>0.6262</td>\n",
              "    </tr>\n",
              "    <tr>\n",
              "      <th>2004-03-12 14:00:00</th>\n",
              "      <td>2.7</td>\n",
              "      <td>16.3</td>\n",
              "      <td>35.7</td>\n",
              "      <td>0.6560</td>\n",
              "    </tr>\n",
              "    <tr>\n",
              "      <th>2004-03-12 15:00:00</th>\n",
              "      <td>2.9</td>\n",
              "      <td>15.8</td>\n",
              "      <td>37.0</td>\n",
              "      <td>0.6610</td>\n",
              "    </tr>\n",
              "    <tr>\n",
              "      <th>2004-03-12 16:00:00</th>\n",
              "      <td>2.8</td>\n",
              "      <td>15.9</td>\n",
              "      <td>37.2</td>\n",
              "      <td>0.6657</td>\n",
              "    </tr>\n",
              "    <tr>\n",
              "      <th>2004-03-12 17:00:00</th>\n",
              "      <td>2.4</td>\n",
              "      <td>16.9</td>\n",
              "      <td>34.3</td>\n",
              "      <td>0.6549</td>\n",
              "    </tr>\n",
              "    <tr>\n",
              "      <th>2004-03-12 18:00:00</th>\n",
              "      <td>3.9</td>\n",
              "      <td>15.1</td>\n",
              "      <td>39.6</td>\n",
              "      <td>0.6766</td>\n",
              "    </tr>\n",
              "    <tr>\n",
              "      <th>2004-03-12 19:00:00</th>\n",
              "      <td>3.7</td>\n",
              "      <td>14.4</td>\n",
              "      <td>43.4</td>\n",
              "      <td>0.7084</td>\n",
              "    </tr>\n",
              "  </tbody>\n",
              "</table>\n",
              "</div>\n",
              "      <button class=\"colab-df-convert\" onclick=\"convertToInteractive('df-cd5feddf-0f3d-4b6c-8dbf-8f045178aecd')\"\n",
              "              title=\"Convert this dataframe to an interactive table.\"\n",
              "              style=\"display:none;\">\n",
              "        \n",
              "  <svg xmlns=\"http://www.w3.org/2000/svg\" height=\"24px\"viewBox=\"0 0 24 24\"\n",
              "       width=\"24px\">\n",
              "    <path d=\"M0 0h24v24H0V0z\" fill=\"none\"/>\n",
              "    <path d=\"M18.56 5.44l.94 2.06.94-2.06 2.06-.94-2.06-.94-.94-2.06-.94 2.06-2.06.94zm-11 1L8.5 8.5l.94-2.06 2.06-.94-2.06-.94L8.5 2.5l-.94 2.06-2.06.94zm10 10l.94 2.06.94-2.06 2.06-.94-2.06-.94-.94-2.06-.94 2.06-2.06.94z\"/><path d=\"M17.41 7.96l-1.37-1.37c-.4-.4-.92-.59-1.43-.59-.52 0-1.04.2-1.43.59L10.3 9.45l-7.72 7.72c-.78.78-.78 2.05 0 2.83L4 21.41c.39.39.9.59 1.41.59.51 0 1.02-.2 1.41-.59l7.78-7.78 2.81-2.81c.8-.78.8-2.07 0-2.86zM5.41 20L4 18.59l7.72-7.72 1.47 1.35L5.41 20z\"/>\n",
              "  </svg>\n",
              "      </button>\n",
              "      \n",
              "  <style>\n",
              "    .colab-df-container {\n",
              "      display:flex;\n",
              "      flex-wrap:wrap;\n",
              "      gap: 12px;\n",
              "    }\n",
              "\n",
              "    .colab-df-convert {\n",
              "      background-color: #E8F0FE;\n",
              "      border: none;\n",
              "      border-radius: 50%;\n",
              "      cursor: pointer;\n",
              "      display: none;\n",
              "      fill: #1967D2;\n",
              "      height: 32px;\n",
              "      padding: 0 0 0 0;\n",
              "      width: 32px;\n",
              "    }\n",
              "\n",
              "    .colab-df-convert:hover {\n",
              "      background-color: #E2EBFA;\n",
              "      box-shadow: 0px 1px 2px rgba(60, 64, 67, 0.3), 0px 1px 3px 1px rgba(60, 64, 67, 0.15);\n",
              "      fill: #174EA6;\n",
              "    }\n",
              "\n",
              "    [theme=dark] .colab-df-convert {\n",
              "      background-color: #3B4455;\n",
              "      fill: #D2E3FC;\n",
              "    }\n",
              "\n",
              "    [theme=dark] .colab-df-convert:hover {\n",
              "      background-color: #434B5C;\n",
              "      box-shadow: 0px 1px 3px 1px rgba(0, 0, 0, 0.15);\n",
              "      filter: drop-shadow(0px 1px 2px rgba(0, 0, 0, 0.3));\n",
              "      fill: #FFFFFF;\n",
              "    }\n",
              "  </style>\n",
              "\n",
              "      <script>\n",
              "        const buttonEl =\n",
              "          document.querySelector('#df-cd5feddf-0f3d-4b6c-8dbf-8f045178aecd button.colab-df-convert');\n",
              "        buttonEl.style.display =\n",
              "          google.colab.kernel.accessAllowed ? 'block' : 'none';\n",
              "\n",
              "        async function convertToInteractive(key) {\n",
              "          const element = document.querySelector('#df-cd5feddf-0f3d-4b6c-8dbf-8f045178aecd');\n",
              "          const dataTable =\n",
              "            await google.colab.kernel.invokeFunction('convertToInteractive',\n",
              "                                                     [key], {});\n",
              "          if (!dataTable) return;\n",
              "\n",
              "          const docLinkHtml = 'Like what you see? Visit the ' +\n",
              "            '<a target=\"_blank\" href=https://colab.research.google.com/notebooks/data_table.ipynb>data table notebook</a>'\n",
              "            + ' to learn more about interactive tables.';\n",
              "          element.innerHTML = '';\n",
              "          dataTable['output_type'] = 'display_data';\n",
              "          await google.colab.output.renderOutput(dataTable, element);\n",
              "          const docLink = document.createElement('div');\n",
              "          docLink.innerHTML = docLinkHtml;\n",
              "          element.appendChild(docLink);\n",
              "        }\n",
              "      </script>\n",
              "    </div>\n",
              "  </div>\n",
              "  "
            ]
          },
          "metadata": {},
          "execution_count": 32
        }
      ]
    },
    {
      "cell_type": "code",
      "source": [
        "df.index.min()"
      ],
      "metadata": {
        "colab": {
          "base_uri": "https://localhost:8080/"
        },
        "id": "ua2wxmlbR31u",
        "outputId": "269430b0-bdb2-4a5e-b255-f73db199660d"
      },
      "execution_count": null,
      "outputs": [
        {
          "output_type": "execute_result",
          "data": {
            "text/plain": [
              "Timestamp('2004-03-10 18:00:00')"
            ]
          },
          "metadata": {},
          "execution_count": 26
        }
      ]
    },
    {
      "cell_type": "code",
      "source": [
        "df.index.max()"
      ],
      "metadata": {
        "colab": {
          "base_uri": "https://localhost:8080/"
        },
        "id": "a8AqLalYR34r",
        "outputId": "5dd9dcb5-ea8a-4d9b-ee22-5d84645d96f4"
      },
      "execution_count": null,
      "outputs": [
        {
          "output_type": "execute_result",
          "data": {
            "text/plain": [
              "Timestamp('2005-04-04 14:00:00')"
            ]
          },
          "metadata": {},
          "execution_count": 25
        }
      ]
    },
    {
      "cell_type": "code",
      "source": [
        "day_names = df.index.day_name()\n",
        "day_names[:10]"
      ],
      "metadata": {
        "colab": {
          "base_uri": "https://localhost:8080/"
        },
        "id": "sTX7tx6cLzs3",
        "outputId": "7c15f9c2-b0fa-457f-ff5f-723004d1e2b7"
      },
      "execution_count": null,
      "outputs": [
        {
          "output_type": "execute_result",
          "data": {
            "text/plain": [
              "Index(['Wednesday', 'Wednesday', 'Wednesday', 'Wednesday', 'Wednesday',\n",
              "       'Wednesday', 'Thursday', 'Thursday', 'Thursday', 'Thursday'],\n",
              "      dtype='object', name='tstamp')"
            ]
          },
          "metadata": {},
          "execution_count": 27
        }
      ]
    },
    {
      "cell_type": "code",
      "source": [
        "df.groupby(day_names)['co'].mean()"
      ],
      "metadata": {
        "colab": {
          "base_uri": "https://localhost:8080/"
        },
        "id": "f6_Gmt1nciVg",
        "outputId": "efd8e934-f714-4782-9eeb-df1705971648"
      },
      "execution_count": null,
      "outputs": [
        {
          "output_type": "execute_result",
          "data": {
            "text/plain": [
              "tstamp\n",
              "Friday       2.543041\n",
              "Monday       2.016741\n",
              "Saturday     1.861077\n",
              "Sunday       1.438069\n",
              "Thursday     2.455505\n",
              "Tuesday      2.382267\n",
              "Wednesday    2.400787\n",
              "Name: co, dtype: float64"
            ]
          },
          "metadata": {},
          "execution_count": 28
        }
      ]
    },
    {
      "cell_type": "code",
      "source": [
        "hr = df.index.hour"
      ],
      "metadata": {
        "id": "l4-8vl13ciXk"
      },
      "execution_count": null,
      "outputs": []
    },
    {
      "cell_type": "code",
      "source": [
        "# 7 * 24 = 168 observations\n",
        "df.groupby([day_names, hr])['co'].mean().rename_axis(['day_of_week', 'hr'])"
      ],
      "metadata": {
        "colab": {
          "base_uri": "https://localhost:8080/"
        },
        "id": "FHOHeJJaciby",
        "outputId": "d7954a62-2abc-4728-e907-fc7a48a1f5c7"
      },
      "execution_count": null,
      "outputs": [
        {
          "output_type": "execute_result",
          "data": {
            "text/plain": [
              "day_of_week  hr\n",
              "Friday       0     1.936170\n",
              "             1     1.608511\n",
              "             2     1.172340\n",
              "             3     0.887234\n",
              "             4     0.823333\n",
              "                     ...   \n",
              "Wednesday    19    4.146809\n",
              "             20    3.844681\n",
              "             21    2.897872\n",
              "             22    2.102128\n",
              "             23    1.938298\n",
              "Name: co, Length: 168, dtype: float64"
            ]
          },
          "metadata": {},
          "execution_count": 31
        }
      ]
    },
    {
      "cell_type": "code",
      "source": [
        "# uses .cut() to bin the temperature values into discrete intervals\n",
        "bins = pd.cut(df['temp_c'], bins =3, labels=('cool', 'warm', 'hot'))"
      ],
      "metadata": {
        "id": "VllASuNAcidY"
      },
      "execution_count": null,
      "outputs": []
    },
    {
      "cell_type": "code",
      "source": [
        "df[['rel_hum', 'abs_hum']].groupby(bins).agg(['mean', 'median'])"
      ],
      "metadata": {
        "colab": {
          "base_uri": "https://localhost:8080/",
          "height": 206
        },
        "id": "ZGHVoabpdvRC",
        "outputId": "56e9df6e-6c6d-4c21-c85b-37c730a743f8"
      },
      "execution_count": null,
      "outputs": [
        {
          "output_type": "execute_result",
          "data": {
            "text/plain": [
              "          rel_hum          abs_hum        \n",
              "             mean median      mean  median\n",
              "temp_c                                    \n",
              "cool    57.651452   59.2  0.665874  0.6581\n",
              "warm    49.382716   49.3  1.182894  1.1452\n",
              "hot     24.994334   24.1  1.292958  1.2742"
            ],
            "text/html": [
              "\n",
              "  <div id=\"df-1cc48ec3-226f-41df-9961-659c3e41646a\">\n",
              "    <div class=\"colab-df-container\">\n",
              "      <div>\n",
              "<style scoped>\n",
              "    .dataframe tbody tr th:only-of-type {\n",
              "        vertical-align: middle;\n",
              "    }\n",
              "\n",
              "    .dataframe tbody tr th {\n",
              "        vertical-align: top;\n",
              "    }\n",
              "\n",
              "    .dataframe thead tr th {\n",
              "        text-align: left;\n",
              "    }\n",
              "\n",
              "    .dataframe thead tr:last-of-type th {\n",
              "        text-align: right;\n",
              "    }\n",
              "</style>\n",
              "<table border=\"1\" class=\"dataframe\">\n",
              "  <thead>\n",
              "    <tr>\n",
              "      <th></th>\n",
              "      <th colspan=\"2\" halign=\"left\">rel_hum</th>\n",
              "      <th colspan=\"2\" halign=\"left\">abs_hum</th>\n",
              "    </tr>\n",
              "    <tr>\n",
              "      <th></th>\n",
              "      <th>mean</th>\n",
              "      <th>median</th>\n",
              "      <th>mean</th>\n",
              "      <th>median</th>\n",
              "    </tr>\n",
              "    <tr>\n",
              "      <th>temp_c</th>\n",
              "      <th></th>\n",
              "      <th></th>\n",
              "      <th></th>\n",
              "      <th></th>\n",
              "    </tr>\n",
              "  </thead>\n",
              "  <tbody>\n",
              "    <tr>\n",
              "      <th>cool</th>\n",
              "      <td>57.651452</td>\n",
              "      <td>59.2</td>\n",
              "      <td>0.665874</td>\n",
              "      <td>0.6581</td>\n",
              "    </tr>\n",
              "    <tr>\n",
              "      <th>warm</th>\n",
              "      <td>49.382716</td>\n",
              "      <td>49.3</td>\n",
              "      <td>1.182894</td>\n",
              "      <td>1.1452</td>\n",
              "    </tr>\n",
              "    <tr>\n",
              "      <th>hot</th>\n",
              "      <td>24.994334</td>\n",
              "      <td>24.1</td>\n",
              "      <td>1.292958</td>\n",
              "      <td>1.2742</td>\n",
              "    </tr>\n",
              "  </tbody>\n",
              "</table>\n",
              "</div>\n",
              "      <button class=\"colab-df-convert\" onclick=\"convertToInteractive('df-1cc48ec3-226f-41df-9961-659c3e41646a')\"\n",
              "              title=\"Convert this dataframe to an interactive table.\"\n",
              "              style=\"display:none;\">\n",
              "        \n",
              "  <svg xmlns=\"http://www.w3.org/2000/svg\" height=\"24px\"viewBox=\"0 0 24 24\"\n",
              "       width=\"24px\">\n",
              "    <path d=\"M0 0h24v24H0V0z\" fill=\"none\"/>\n",
              "    <path d=\"M18.56 5.44l.94 2.06.94-2.06 2.06-.94-2.06-.94-.94-2.06-.94 2.06-2.06.94zm-11 1L8.5 8.5l.94-2.06 2.06-.94-2.06-.94L8.5 2.5l-.94 2.06-2.06.94zm10 10l.94 2.06.94-2.06 2.06-.94-2.06-.94-.94-2.06-.94 2.06-2.06.94z\"/><path d=\"M17.41 7.96l-1.37-1.37c-.4-.4-.92-.59-1.43-.59-.52 0-1.04.2-1.43.59L10.3 9.45l-7.72 7.72c-.78.78-.78 2.05 0 2.83L4 21.41c.39.39.9.59 1.41.59.51 0 1.02-.2 1.41-.59l7.78-7.78 2.81-2.81c.8-.78.8-2.07 0-2.86zM5.41 20L4 18.59l7.72-7.72 1.47 1.35L5.41 20z\"/>\n",
              "  </svg>\n",
              "      </button>\n",
              "      \n",
              "  <style>\n",
              "    .colab-df-container {\n",
              "      display:flex;\n",
              "      flex-wrap:wrap;\n",
              "      gap: 12px;\n",
              "    }\n",
              "\n",
              "    .colab-df-convert {\n",
              "      background-color: #E8F0FE;\n",
              "      border: none;\n",
              "      border-radius: 50%;\n",
              "      cursor: pointer;\n",
              "      display: none;\n",
              "      fill: #1967D2;\n",
              "      height: 32px;\n",
              "      padding: 0 0 0 0;\n",
              "      width: 32px;\n",
              "    }\n",
              "\n",
              "    .colab-df-convert:hover {\n",
              "      background-color: #E2EBFA;\n",
              "      box-shadow: 0px 1px 2px rgba(60, 64, 67, 0.3), 0px 1px 3px 1px rgba(60, 64, 67, 0.15);\n",
              "      fill: #174EA6;\n",
              "    }\n",
              "\n",
              "    [theme=dark] .colab-df-convert {\n",
              "      background-color: #3B4455;\n",
              "      fill: #D2E3FC;\n",
              "    }\n",
              "\n",
              "    [theme=dark] .colab-df-convert:hover {\n",
              "      background-color: #434B5C;\n",
              "      box-shadow: 0px 1px 3px 1px rgba(0, 0, 0, 0.15);\n",
              "      filter: drop-shadow(0px 1px 2px rgba(0, 0, 0, 0.3));\n",
              "      fill: #FFFFFF;\n",
              "    }\n",
              "  </style>\n",
              "\n",
              "      <script>\n",
              "        const buttonEl =\n",
              "          document.querySelector('#df-1cc48ec3-226f-41df-9961-659c3e41646a button.colab-df-convert');\n",
              "        buttonEl.style.display =\n",
              "          google.colab.kernel.accessAllowed ? 'block' : 'none';\n",
              "\n",
              "        async function convertToInteractive(key) {\n",
              "          const element = document.querySelector('#df-1cc48ec3-226f-41df-9961-659c3e41646a');\n",
              "          const dataTable =\n",
              "            await google.colab.kernel.invokeFunction('convertToInteractive',\n",
              "                                                     [key], {});\n",
              "          if (!dataTable) return;\n",
              "\n",
              "          const docLinkHtml = 'Like what you see? Visit the ' +\n",
              "            '<a target=\"_blank\" href=https://colab.research.google.com/notebooks/data_table.ipynb>data table notebook</a>'\n",
              "            + ' to learn more about interactive tables.';\n",
              "          element.innerHTML = '';\n",
              "          dataTable['output_type'] = 'display_data';\n",
              "          await google.colab.output.renderOutput(dataTable, element);\n",
              "          const docLink = document.createElement('div');\n",
              "          docLink.innerHTML = docLinkHtml;\n",
              "          element.appendChild(docLink);\n",
              "        }\n",
              "      </script>\n",
              "    </div>\n",
              "  </div>\n",
              "  "
            ]
          },
          "metadata": {},
          "execution_count": 34
        }
      ]
    },
    {
      "cell_type": "code",
      "source": [
        "bins.head()"
      ],
      "metadata": {
        "colab": {
          "base_uri": "https://localhost:8080/"
        },
        "id": "7j5pM08BdvTI",
        "outputId": "3ac03e93-a77c-425b-8f98-18e7f92d44e8"
      },
      "execution_count": null,
      "outputs": [
        {
          "output_type": "execute_result",
          "data": {
            "text/plain": [
              "tstamp\n",
              "2004-03-10 18:00:00    cool\n",
              "2004-03-10 19:00:00    cool\n",
              "2004-03-10 20:00:00    cool\n",
              "2004-03-10 21:00:00    cool\n",
              "2004-03-10 22:00:00    cool\n",
              "Name: temp_c, dtype: category\n",
              "Categories (3, object): ['cool' < 'warm' < 'hot']"
            ]
          },
          "metadata": {},
          "execution_count": 35
        }
      ]
    },
    {
      "cell_type": "code",
      "source": [
        "df.groupby([df.index.year, df.index.quarter])['co'].agg(['max', 'min']).rename_axis(['year', 'quarter'])"
      ],
      "metadata": {
        "colab": {
          "base_uri": "https://localhost:8080/",
          "height": 269
        },
        "id": "xRL9upmvcihH",
        "outputId": "cf995322-a87c-400d-e4f4-0cc226d64831"
      },
      "execution_count": null,
      "outputs": [
        {
          "output_type": "execute_result",
          "data": {
            "text/plain": [
              "               max  min\n",
              "year quarter           \n",
              "2004 1         8.1  0.3\n",
              "     2         7.3  0.1\n",
              "     3         7.5  0.1\n",
              "     4        11.9  0.1\n",
              "2005 1         8.7  0.1\n",
              "     2         5.0  0.3"
            ],
            "text/html": [
              "\n",
              "  <div id=\"df-a032689e-e4a4-476f-9a19-0dd56c0d6880\">\n",
              "    <div class=\"colab-df-container\">\n",
              "      <div>\n",
              "<style scoped>\n",
              "    .dataframe tbody tr th:only-of-type {\n",
              "        vertical-align: middle;\n",
              "    }\n",
              "\n",
              "    .dataframe tbody tr th {\n",
              "        vertical-align: top;\n",
              "    }\n",
              "\n",
              "    .dataframe thead th {\n",
              "        text-align: right;\n",
              "    }\n",
              "</style>\n",
              "<table border=\"1\" class=\"dataframe\">\n",
              "  <thead>\n",
              "    <tr style=\"text-align: right;\">\n",
              "      <th></th>\n",
              "      <th></th>\n",
              "      <th>max</th>\n",
              "      <th>min</th>\n",
              "    </tr>\n",
              "    <tr>\n",
              "      <th>year</th>\n",
              "      <th>quarter</th>\n",
              "      <th></th>\n",
              "      <th></th>\n",
              "    </tr>\n",
              "  </thead>\n",
              "  <tbody>\n",
              "    <tr>\n",
              "      <th rowspan=\"4\" valign=\"top\">2004</th>\n",
              "      <th>1</th>\n",
              "      <td>8.1</td>\n",
              "      <td>0.3</td>\n",
              "    </tr>\n",
              "    <tr>\n",
              "      <th>2</th>\n",
              "      <td>7.3</td>\n",
              "      <td>0.1</td>\n",
              "    </tr>\n",
              "    <tr>\n",
              "      <th>3</th>\n",
              "      <td>7.5</td>\n",
              "      <td>0.1</td>\n",
              "    </tr>\n",
              "    <tr>\n",
              "      <th>4</th>\n",
              "      <td>11.9</td>\n",
              "      <td>0.1</td>\n",
              "    </tr>\n",
              "    <tr>\n",
              "      <th rowspan=\"2\" valign=\"top\">2005</th>\n",
              "      <th>1</th>\n",
              "      <td>8.7</td>\n",
              "      <td>0.1</td>\n",
              "    </tr>\n",
              "    <tr>\n",
              "      <th>2</th>\n",
              "      <td>5.0</td>\n",
              "      <td>0.3</td>\n",
              "    </tr>\n",
              "  </tbody>\n",
              "</table>\n",
              "</div>\n",
              "      <button class=\"colab-df-convert\" onclick=\"convertToInteractive('df-a032689e-e4a4-476f-9a19-0dd56c0d6880')\"\n",
              "              title=\"Convert this dataframe to an interactive table.\"\n",
              "              style=\"display:none;\">\n",
              "        \n",
              "  <svg xmlns=\"http://www.w3.org/2000/svg\" height=\"24px\"viewBox=\"0 0 24 24\"\n",
              "       width=\"24px\">\n",
              "    <path d=\"M0 0h24v24H0V0z\" fill=\"none\"/>\n",
              "    <path d=\"M18.56 5.44l.94 2.06.94-2.06 2.06-.94-2.06-.94-.94-2.06-.94 2.06-2.06.94zm-11 1L8.5 8.5l.94-2.06 2.06-.94-2.06-.94L8.5 2.5l-.94 2.06-2.06.94zm10 10l.94 2.06.94-2.06 2.06-.94-2.06-.94-.94-2.06-.94 2.06-2.06.94z\"/><path d=\"M17.41 7.96l-1.37-1.37c-.4-.4-.92-.59-1.43-.59-.52 0-1.04.2-1.43.59L10.3 9.45l-7.72 7.72c-.78.78-.78 2.05 0 2.83L4 21.41c.39.39.9.59 1.41.59.51 0 1.02-.2 1.41-.59l7.78-7.78 2.81-2.81c.8-.78.8-2.07 0-2.86zM5.41 20L4 18.59l7.72-7.72 1.47 1.35L5.41 20z\"/>\n",
              "  </svg>\n",
              "      </button>\n",
              "      \n",
              "  <style>\n",
              "    .colab-df-container {\n",
              "      display:flex;\n",
              "      flex-wrap:wrap;\n",
              "      gap: 12px;\n",
              "    }\n",
              "\n",
              "    .colab-df-convert {\n",
              "      background-color: #E8F0FE;\n",
              "      border: none;\n",
              "      border-radius: 50%;\n",
              "      cursor: pointer;\n",
              "      display: none;\n",
              "      fill: #1967D2;\n",
              "      height: 32px;\n",
              "      padding: 0 0 0 0;\n",
              "      width: 32px;\n",
              "    }\n",
              "\n",
              "    .colab-df-convert:hover {\n",
              "      background-color: #E2EBFA;\n",
              "      box-shadow: 0px 1px 2px rgba(60, 64, 67, 0.3), 0px 1px 3px 1px rgba(60, 64, 67, 0.15);\n",
              "      fill: #174EA6;\n",
              "    }\n",
              "\n",
              "    [theme=dark] .colab-df-convert {\n",
              "      background-color: #3B4455;\n",
              "      fill: #D2E3FC;\n",
              "    }\n",
              "\n",
              "    [theme=dark] .colab-df-convert:hover {\n",
              "      background-color: #434B5C;\n",
              "      box-shadow: 0px 1px 3px 1px rgba(0, 0, 0, 0.15);\n",
              "      filter: drop-shadow(0px 1px 2px rgba(0, 0, 0, 0.3));\n",
              "      fill: #FFFFFF;\n",
              "    }\n",
              "  </style>\n",
              "\n",
              "      <script>\n",
              "        const buttonEl =\n",
              "          document.querySelector('#df-a032689e-e4a4-476f-9a19-0dd56c0d6880 button.colab-df-convert');\n",
              "        buttonEl.style.display =\n",
              "          google.colab.kernel.accessAllowed ? 'block' : 'none';\n",
              "\n",
              "        async function convertToInteractive(key) {\n",
              "          const element = document.querySelector('#df-a032689e-e4a4-476f-9a19-0dd56c0d6880');\n",
              "          const dataTable =\n",
              "            await google.colab.kernel.invokeFunction('convertToInteractive',\n",
              "                                                     [key], {});\n",
              "          if (!dataTable) return;\n",
              "\n",
              "          const docLinkHtml = 'Like what you see? Visit the ' +\n",
              "            '<a target=\"_blank\" href=https://colab.research.google.com/notebooks/data_table.ipynb>data table notebook</a>'\n",
              "            + ' to learn more about interactive tables.';\n",
              "          element.innerHTML = '';\n",
              "          dataTable['output_type'] = 'display_data';\n",
              "          await google.colab.output.renderOutput(dataTable, element);\n",
              "          const docLink = document.createElement('div');\n",
              "          docLink.innerHTML = docLinkHtml;\n",
              "          element.appendChild(docLink);\n",
              "        }\n",
              "      </script>\n",
              "    </div>\n",
              "  </div>\n",
              "  "
            ]
          },
          "metadata": {},
          "execution_count": 40
        }
      ]
    },
    {
      "cell_type": "code",
      "source": [
        "#uses of resampling is as a time-based groupby. All that you need to do is pass a frequency string, such as \"Q\" for \"quarterly\", and pandas will do the rest:\n",
        "df.resample('Q')['co'].agg(['max', 'min'])"
      ],
      "metadata": {
        "colab": {
          "base_uri": "https://localhost:8080/",
          "height": 269
        },
        "id": "ZBUVk1nqcikK",
        "outputId": "0652f70a-ac0d-4dfe-ba12-813bf79def01"
      },
      "execution_count": null,
      "outputs": [
        {
          "output_type": "execute_result",
          "data": {
            "text/plain": [
              "             max  min\n",
              "tstamp               \n",
              "2004-03-31   8.1  0.3\n",
              "2004-06-30   7.3  0.1\n",
              "2004-09-30   7.5  0.1\n",
              "2004-12-31  11.9  0.1\n",
              "2005-03-31   8.7  0.1\n",
              "2005-06-30   5.0  0.3"
            ],
            "text/html": [
              "\n",
              "  <div id=\"df-dbd685fa-c044-4ff2-b942-e3f9765b72e9\">\n",
              "    <div class=\"colab-df-container\">\n",
              "      <div>\n",
              "<style scoped>\n",
              "    .dataframe tbody tr th:only-of-type {\n",
              "        vertical-align: middle;\n",
              "    }\n",
              "\n",
              "    .dataframe tbody tr th {\n",
              "        vertical-align: top;\n",
              "    }\n",
              "\n",
              "    .dataframe thead th {\n",
              "        text-align: right;\n",
              "    }\n",
              "</style>\n",
              "<table border=\"1\" class=\"dataframe\">\n",
              "  <thead>\n",
              "    <tr style=\"text-align: right;\">\n",
              "      <th></th>\n",
              "      <th>max</th>\n",
              "      <th>min</th>\n",
              "    </tr>\n",
              "    <tr>\n",
              "      <th>tstamp</th>\n",
              "      <th></th>\n",
              "      <th></th>\n",
              "    </tr>\n",
              "  </thead>\n",
              "  <tbody>\n",
              "    <tr>\n",
              "      <th>2004-03-31</th>\n",
              "      <td>8.1</td>\n",
              "      <td>0.3</td>\n",
              "    </tr>\n",
              "    <tr>\n",
              "      <th>2004-06-30</th>\n",
              "      <td>7.3</td>\n",
              "      <td>0.1</td>\n",
              "    </tr>\n",
              "    <tr>\n",
              "      <th>2004-09-30</th>\n",
              "      <td>7.5</td>\n",
              "      <td>0.1</td>\n",
              "    </tr>\n",
              "    <tr>\n",
              "      <th>2004-12-31</th>\n",
              "      <td>11.9</td>\n",
              "      <td>0.1</td>\n",
              "    </tr>\n",
              "    <tr>\n",
              "      <th>2005-03-31</th>\n",
              "      <td>8.7</td>\n",
              "      <td>0.1</td>\n",
              "    </tr>\n",
              "    <tr>\n",
              "      <th>2005-06-30</th>\n",
              "      <td>5.0</td>\n",
              "      <td>0.3</td>\n",
              "    </tr>\n",
              "  </tbody>\n",
              "</table>\n",
              "</div>\n",
              "      <button class=\"colab-df-convert\" onclick=\"convertToInteractive('df-dbd685fa-c044-4ff2-b942-e3f9765b72e9')\"\n",
              "              title=\"Convert this dataframe to an interactive table.\"\n",
              "              style=\"display:none;\">\n",
              "        \n",
              "  <svg xmlns=\"http://www.w3.org/2000/svg\" height=\"24px\"viewBox=\"0 0 24 24\"\n",
              "       width=\"24px\">\n",
              "    <path d=\"M0 0h24v24H0V0z\" fill=\"none\"/>\n",
              "    <path d=\"M18.56 5.44l.94 2.06.94-2.06 2.06-.94-2.06-.94-.94-2.06-.94 2.06-2.06.94zm-11 1L8.5 8.5l.94-2.06 2.06-.94-2.06-.94L8.5 2.5l-.94 2.06-2.06.94zm10 10l.94 2.06.94-2.06 2.06-.94-2.06-.94-.94-2.06-.94 2.06-2.06.94z\"/><path d=\"M17.41 7.96l-1.37-1.37c-.4-.4-.92-.59-1.43-.59-.52 0-1.04.2-1.43.59L10.3 9.45l-7.72 7.72c-.78.78-.78 2.05 0 2.83L4 21.41c.39.39.9.59 1.41.59.51 0 1.02-.2 1.41-.59l7.78-7.78 2.81-2.81c.8-.78.8-2.07 0-2.86zM5.41 20L4 18.59l7.72-7.72 1.47 1.35L5.41 20z\"/>\n",
              "  </svg>\n",
              "      </button>\n",
              "      \n",
              "  <style>\n",
              "    .colab-df-container {\n",
              "      display:flex;\n",
              "      flex-wrap:wrap;\n",
              "      gap: 12px;\n",
              "    }\n",
              "\n",
              "    .colab-df-convert {\n",
              "      background-color: #E8F0FE;\n",
              "      border: none;\n",
              "      border-radius: 50%;\n",
              "      cursor: pointer;\n",
              "      display: none;\n",
              "      fill: #1967D2;\n",
              "      height: 32px;\n",
              "      padding: 0 0 0 0;\n",
              "      width: 32px;\n",
              "    }\n",
              "\n",
              "    .colab-df-convert:hover {\n",
              "      background-color: #E2EBFA;\n",
              "      box-shadow: 0px 1px 2px rgba(60, 64, 67, 0.3), 0px 1px 3px 1px rgba(60, 64, 67, 0.15);\n",
              "      fill: #174EA6;\n",
              "    }\n",
              "\n",
              "    [theme=dark] .colab-df-convert {\n",
              "      background-color: #3B4455;\n",
              "      fill: #D2E3FC;\n",
              "    }\n",
              "\n",
              "    [theme=dark] .colab-df-convert:hover {\n",
              "      background-color: #434B5C;\n",
              "      box-shadow: 0px 1px 3px 1px rgba(0, 0, 0, 0.15);\n",
              "      filter: drop-shadow(0px 1px 2px rgba(0, 0, 0, 0.3));\n",
              "      fill: #FFFFFF;\n",
              "    }\n",
              "  </style>\n",
              "\n",
              "      <script>\n",
              "        const buttonEl =\n",
              "          document.querySelector('#df-dbd685fa-c044-4ff2-b942-e3f9765b72e9 button.colab-df-convert');\n",
              "        buttonEl.style.display =\n",
              "          google.colab.kernel.accessAllowed ? 'block' : 'none';\n",
              "\n",
              "        async function convertToInteractive(key) {\n",
              "          const element = document.querySelector('#df-dbd685fa-c044-4ff2-b942-e3f9765b72e9');\n",
              "          const dataTable =\n",
              "            await google.colab.kernel.invokeFunction('convertToInteractive',\n",
              "                                                     [key], {});\n",
              "          if (!dataTable) return;\n",
              "\n",
              "          const docLinkHtml = 'Like what you see? Visit the ' +\n",
              "            '<a target=\"_blank\" href=https://colab.research.google.com/notebooks/data_table.ipynb>data table notebook</a>'\n",
              "            + ' to learn more about interactive tables.';\n",
              "          element.innerHTML = '';\n",
              "          dataTable['output_type'] = 'display_data';\n",
              "          await google.colab.output.renderOutput(dataTable, element);\n",
              "          const docLink = document.createElement('div');\n",
              "          docLink.innerHTML = docLinkHtml;\n",
              "          element.appendChild(docLink);\n",
              "        }\n",
              "      </script>\n",
              "    </div>\n",
              "  </div>\n",
              "  "
            ]
          },
          "metadata": {},
          "execution_count": 42
        }
      ]
    },
    {
      "cell_type": "code",
      "source": [
        "# dealing with unprintable lines\n",
        "data1=[]\n",
        "with open(data,'r') as f:\n",
        "  line = f.readline()\n",
        "  c=0\n",
        "  line_count = 0\n",
        "  while line:\n",
        "    c+=1\n",
        "    try:\n",
        "        datetime,city,state,country,shape,durations,durationh,comments,dateposted,latitude,longitudeline = line.split(',')\n",
        "        data1.append([datetime,city,state,country,shape,durations,durationh,comments,dateposted,latitude,longitudeline])\n",
        "    except:\n",
        "      print(c)\n",
        "      line_count += 1\n",
        "      print(line.split(','))\n",
        "\n",
        "    line=f.readline()\n",
        "print(line_count)"
      ],
      "metadata": {
        "id": "sIIBbIz4kKMA"
      },
      "execution_count": null,
      "outputs": []
    },
    {
      "cell_type": "code",
      "source": [
        "# using the isnull() method to check for any NaN values in the DataFrame, \n",
        "# which correspond to the rows that were skipped due to formatting errors. \n",
        "# Then, we're using the shape attribute to get the number of rows (which is\n",
        "# the same as the number of skipped lines). Finally, we're printing the number \n",
        "# of skipped lines to the console.\n",
        "\n",
        "import pandas as pd\n",
        "from google.colab import files\n",
        "\n",
        "df = pd.read_csv('/content/news.csv', error_bad_lines = False, warn_bad_lines=True)\n",
        "num_skipped_lines = df.loc[df.isnull().any(axis=1)].shape[0]\n",
        "print(\"Number of skipped lines: {}\".format(num_skipped_lines))\n",
        "\n",
        "!csvclean /content/news.csv > /content/cleaned_news.csv\n",
        "files.download('cleaned_news.csv')"
      ],
      "metadata": {
        "id": "0P19_Gu5hgpI"
      },
      "execution_count": null,
      "outputs": []
    },
    {
      "cell_type": "code",
      "source": [
        "\n",
        "def parse_millisecond_timestamp(ts):\n",
        "  '''Convert ms since Unix epoc to UTC datetime instance.'''\n",
        "  return pd.to_datetime(ts, unit='ms')\n",
        "\n",
        "df = pd.read_csv('/content/news.csv', sep='\\t', \n",
        "                 header =None,\n",
        "                 index_col =0, \n",
        "                 names=['title', 'url', 'outlet', 'category', 'cluster', 'host', 'tstamp'],\n",
        "                 parse_dates=['tstamp'],\n",
        "                 date_parser = parse_millisecond_timestamp, \n",
        "                 dtype ={\n",
        "                     'outlet': 'category',\n",
        "                     'category': 'category',\n",
        "                     'cluster' : 'category',\n",
        "                     'host' : 'category',\n",
        "                 },)\n"
      ],
      "metadata": {
        "id": "Swj9cBRxg7sO"
      },
      "execution_count": 16,
      "outputs": []
    },
    {
      "cell_type": "code",
      "source": [
        "df.iloc[0]"
      ],
      "metadata": {
        "id": "y-l8amOxg7xf",
        "colab": {
          "base_uri": "https://localhost:8080/"
        },
        "outputId": "02765a55-8275-4ce3-a4af-83f745d5ceb8"
      },
      "execution_count": 17,
      "outputs": [
        {
          "output_type": "execute_result",
          "data": {
            "text/plain": [
              "title       Fed official says weak data caused by weather,...\n",
              "url         http://www.latimes.com/business/money/la-fi-mo...\n",
              "outlet                                      Los Angeles Times\n",
              "category                                                    b\n",
              "cluster                         ddUyU0VZz0BRneMioxUPQVP6sIxvM\n",
              "host                                          www.latimes.com\n",
              "tstamp                             2014-03-10 16:52:50.698000\n",
              "Name: 1, dtype: object"
            ]
          },
          "metadata": {},
          "execution_count": 17
        }
      ]
    },
    {
      "cell_type": "code",
      "source": [
        "#which outlets talk most about the Federal Reserve? \n",
        "df.groupby('outlet', sort=False)['title'].apply(lambda ser: ser.str.contains('Fed').sum()).nlargest(10)"
      ],
      "metadata": {
        "id": "WuQzKv3tg70F",
        "colab": {
          "base_uri": "https://localhost:8080/"
        },
        "outputId": "896d35e4-0129-4cbd-d0a4-00177ac87a7b"
      },
      "execution_count": 18,
      "outputs": [
        {
          "output_type": "execute_result",
          "data": {
            "text/plain": [
              "outlet\n",
              "Reuters                         161\n",
              "NASDAQ                          103\n",
              "Businessweek                     93\n",
              "Investing.com                    66\n",
              "Wall Street Journal \\(blog\\)     61\n",
              "MarketWatch                      56\n",
              "Moneynews                        55\n",
              "Bloomberg                        53\n",
              "GlobalPost                       51\n",
              "Economic Times                   44\n",
              "Name: title, dtype: int64"
            ]
          },
          "metadata": {},
          "execution_count": 18
        }
      ]
    },
    {
      "cell_type": "code",
      "source": [
        "# pull out first group by taking the fisrt tuple from pandas GroupBy iterator:\n",
        "title, ser = next(iter(df.groupby('outlet', sort=False)['title']))\n",
        "title"
      ],
      "metadata": {
        "id": "EP8dCk-pg73Y",
        "colab": {
          "base_uri": "https://localhost:8080/",
          "height": 35
        },
        "outputId": "eb1121ce-ad64-4d69-8a70-43cc88f341d0"
      },
      "execution_count": 22,
      "outputs": [
        {
          "output_type": "execute_result",
          "data": {
            "text/plain": [
              "'Los Angeles Times'"
            ],
            "application/vnd.google.colaboratory.intrinsic+json": {
              "type": "string"
            }
          },
          "metadata": {},
          "execution_count": 22
        }
      ]
    },
    {
      "cell_type": "code",
      "source": [
        "#ser is a pandas Series rather than a DataFrame\n",
        "ser.head()"
      ],
      "metadata": {
        "id": "_M5fefY2g76a",
        "colab": {
          "base_uri": "https://localhost:8080/"
        },
        "outputId": "f25d3bee-e094-40b0-c9c7-5ea6c8518926"
      },
      "execution_count": 23,
      "outputs": [
        {
          "output_type": "execute_result",
          "data": {
            "text/plain": [
              "1       Fed official says weak data caused by weather,...\n",
              "486            Stocks fall on discouraging news from Asia\n",
              "1124    Clues to Genghis Khan's rise, written in the r...\n",
              "1146    Elephants distinguish human voices by sex, age...\n",
              "1237    Honda splits Acura into its own division to re...\n",
              "Name: title, dtype: object"
            ]
          },
          "metadata": {},
          "execution_count": 23
        }
      ]
    },
    {
      "cell_type": "code",
      "source": [
        "ser.str.contains('Fed')"
      ],
      "metadata": {
        "colab": {
          "base_uri": "https://localhost:8080/"
        },
        "id": "Fo8LLh0gpzC6",
        "outputId": "d6a4bcf0-19e7-466f-ffc0-bbae3d7d9803"
      },
      "execution_count": 24,
      "outputs": [
        {
          "output_type": "execute_result",
          "data": {
            "text/plain": [
              "1          True\n",
              "486       False\n",
              "1124      False\n",
              "1146      False\n",
              "1237      False\n",
              "          ...  \n",
              "421547    False\n",
              "421584    False\n",
              "421972    False\n",
              "422226    False\n",
              "422905    False\n",
              "Name: title, Length: 1976, dtype: bool"
            ]
          },
          "metadata": {},
          "execution_count": 24
        }
      ]
    },
    {
      "cell_type": "code",
      "source": [
        "# sum a Series of True and False = sum 1 and 0:\n",
        "ser.str.contains('Fed').sum()\n",
        "\n",
        "# number of mentions of \"Fed\" by the Los Angeles Times "
      ],
      "metadata": {
        "colab": {
          "base_uri": "https://localhost:8080/"
        },
        "id": "ZPSywUv6pzFT",
        "outputId": "0655c41f-ee56-43fa-d215-e9c92563ee8f"
      },
      "execution_count": 25,
      "outputs": [
        {
          "output_type": "execute_result",
          "data": {
            "text/plain": [
              "17"
            ]
          },
          "metadata": {},
          "execution_count": 25
        }
      ]
    },
    {
      "cell_type": "code",
      "source": [
        "mentions_fed = df['title'].str.contains('Fed')\n",
        "type(mentions_fed)"
      ],
      "metadata": {
        "colab": {
          "base_uri": "https://localhost:8080/"
        },
        "id": "KaTkKAvepzJD",
        "outputId": "56e52670-8ec9-471e-b3e0-64fb6da009f8"
      },
      "execution_count": 26,
      "outputs": [
        {
          "output_type": "execute_result",
          "data": {
            "text/plain": [
              "pandas.core.series.Series"
            ]
          },
          "metadata": {},
          "execution_count": 26
        }
      ]
    },
    {
      "cell_type": "code",
      "source": [
        "#roupby() is also a method of Series, so you can group one Series on another:\n",
        "mentions_fed.groupby(df['outlet'], sort=False).sum().nlargest(10).astype(np.uintc)"
      ],
      "metadata": {
        "colab": {
          "base_uri": "https://localhost:8080/"
        },
        "id": "NLp7kV9epzLQ",
        "outputId": "a6104375-f68b-4f02-daea-a7edabc552f5"
      },
      "execution_count": 29,
      "outputs": [
        {
          "output_type": "execute_result",
          "data": {
            "text/plain": [
              "outlet\n",
              "Reuters                         161\n",
              "NASDAQ                          103\n",
              "Businessweek                     93\n",
              "Investing.com                    66\n",
              "Wall Street Journal \\(blog\\)     61\n",
              "MarketWatch                      56\n",
              "Moneynews                        55\n",
              "Bloomberg                        53\n",
              "GlobalPost                       51\n",
              "Economic Times                   44\n",
              "Name: title, dtype: uint32"
            ]
          },
          "metadata": {},
          "execution_count": 29
        }
      ]
    },
    {
      "cell_type": "code",
      "source": [
        "# The two Series don’t need to be columns of the same DataFrame object. They just need to be of the same shape:\n",
        "\n",
        "mentions_fed.shape"
      ],
      "metadata": {
        "colab": {
          "base_uri": "https://localhost:8080/"
        },
        "id": "sAkbu3IApzOx",
        "outputId": "bd854f85-9615-4655-d774-1f8ecfae6cd1"
      },
      "execution_count": 30,
      "outputs": [
        {
          "output_type": "execute_result",
          "data": {
            "text/plain": [
              "(422419,)"
            ]
          },
          "metadata": {},
          "execution_count": 30
        }
      ]
    },
    {
      "cell_type": "code",
      "source": [
        "df['outlet'].shape"
      ],
      "metadata": {
        "colab": {
          "base_uri": "https://localhost:8080/"
        },
        "id": "Ly5SUY89pzQa",
        "outputId": "678b84ca-7c7a-4f79-bf1d-589068d2d0d5"
      },
      "execution_count": 31,
      "outputs": [
        {
          "output_type": "execute_result",
          "data": {
            "text/plain": [
              "(422419,)"
            ]
          },
          "metadata": {},
          "execution_count": 31
        }
      ]
    },
    {
      "cell_type": "code",
      "source": [
        "import timeit\n",
        "\n",
        "def test_apply():\n",
        "  '''Version 1: using '.apply()' '''\n",
        "  df.groupby('outlet', sort=False)['title'].apply(lambda ser: ser.str.contains('Fed').sum()).nlargest(10)\n",
        "\n",
        "def test_vectorization():\n",
        "  '''Version 2: using vectorization'''\n",
        "  mentions_fed = df['title'].str.contains('Fed')\n",
        "  mentions_fed.groupby(df['outlet'], sort=False).sum().nlargest(10).astype(np.uintc)\n",
        "\n",
        "print(f'Version 1: {timeit.timeit(test_apply, number=3)}')\n",
        "print(f'Version 2: {timeit.timeit(test_vectorization, number=3)}')"
      ],
      "metadata": {
        "colab": {
          "base_uri": "https://localhost:8080/"
        },
        "id": "5W_jRy_FpzT3",
        "outputId": "1bcbdf0e-2b57-4f5e-fa4e-b76ad82348ae"
      },
      "execution_count": 33,
      "outputs": [
        {
          "output_type": "stream",
          "name": "stdout",
          "text": [
            "Version 1: 11.14899893599977\n",
            "Version 2: 0.5455870850000792\n"
          ]
        }
      ]
    },
    {
      "cell_type": "code",
      "source": [],
      "metadata": {
        "id": "cPu9AoDZpzW9"
      },
      "execution_count": null,
      "outputs": []
    }
  ]
}